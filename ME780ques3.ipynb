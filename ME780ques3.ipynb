{
  "nbformat": 4,
  "nbformat_minor": 0,
  "metadata": {
    "colab": {
      "name": "ME780ques3.ipynb",
      "provenance": [],
      "toc_visible": true,
      "mount_file_id": "14wX65fUWCkd0gWkS0l4fOjguSeOxbLxv",
      "authorship_tag": "ABX9TyOcHaC6twmv930X4eaZaNhF",
      "include_colab_link": true
    },
    "kernelspec": {
      "name": "python3",
      "display_name": "Python 3"
    }
  },
  "cells": [
    {
      "cell_type": "markdown",
      "metadata": {
        "id": "view-in-github",
        "colab_type": "text"
      },
      "source": [
        "<a href=\"https://colab.research.google.com/github/pra1608/Risk-Analysis/blob/master/ME780ques3.ipynb\" target=\"_parent\"><img src=\"https://colab.research.google.com/assets/colab-badge.svg\" alt=\"Open In Colab\"/></a>"
      ]
    },
    {
      "cell_type": "markdown",
      "metadata": {
        "id": "qpKYhqwBXVDf"
      },
      "source": [
        "##Question 3: Perform principal component analysis for the given six predictors in the data. "
      ]
    },
    {
      "cell_type": "markdown",
      "metadata": {
        "id": "yI9XnlziXd4n"
      },
      "source": [
        "Importing neccessary libraries"
      ]
    },
    {
      "cell_type": "code",
      "metadata": {
        "id": "W-Y2ymjYkYMj"
      },
      "source": [
        "import pandas as pd\r\n",
        "import numpy as np\r\n",
        "from sklearn.decomposition import PCA\r\n",
        "from sklearn.model_selection import cross_val_score\r\n",
        "from sklearn.preprocessing import StandardScaler\r\n",
        "import matplotlib\r\n",
        "import matplotlib.pyplot as plt"
      ],
      "execution_count": 8,
      "outputs": []
    },
    {
      "cell_type": "markdown",
      "metadata": {
        "id": "Heg5r-fAXtUT"
      },
      "source": [
        "Reading data file for third question"
      ]
    },
    {
      "cell_type": "code",
      "metadata": {
        "id": "1t1km-OkmtFz"
      },
      "source": [
        "df = pd.read_csv('/content/drive/MyDrive/ME780Exam/New folder/193109012@iitb.ac.in_Q3.csv')"
      ],
      "execution_count": 9,
      "outputs": []
    },
    {
      "cell_type": "markdown",
      "metadata": {
        "id": "0sSk8ZLkX3YV"
      },
      "source": [
        "Normalization of data features using Standard Scalar Library"
      ]
    },
    {
      "cell_type": "code",
      "metadata": {
        "id": "Cl816tlXmz8e"
      },
      "source": [
        "X = df.values # Numpy array of input data\r\n",
        "scaler = StandardScaler()\r\n",
        "X = scaler.fit_transform(X) #transforming given data with mean 0 and std 1"
      ],
      "execution_count": 10,
      "outputs": []
    },
    {
      "cell_type": "markdown",
      "metadata": {
        "id": "8sW_ZJs-YoK0"
      },
      "source": [
        "Principal component analysis (PCA)."
      ]
    },
    {
      "cell_type": "code",
      "metadata": {
        "id": "fQn8l_qYm0oW"
      },
      "source": [
        "# Defining a function to calculate exaplained variance included in PC\r\n",
        "def compute_scores(X):\r\n",
        "    pca_variance = []  \r\n",
        "    for n in range(1,7):\r\n",
        "      # PCA \r\n",
        "      pca = PCA(n_components=n,svd_solver='full')\r\n",
        "      pca.fit(X)\r\n",
        "      pca_variance.append(np.sum(pca.explained_variance_ratio_))\r\n",
        "    return pca_variance\r\n"
      ],
      "execution_count": 11,
      "outputs": []
    },
    {
      "cell_type": "markdown",
      "metadata": {
        "id": "XoM8XObeZoHC"
      },
      "source": [
        "###***Plot of variance contained in principal components vs the number of principal components***\r\n"
      ]
    },
    {
      "cell_type": "code",
      "metadata": {
        "colab": {
          "base_uri": "https://localhost:8080/",
          "height": 404
        },
        "id": "V3Zd_mkkZpts",
        "outputId": "2d7a41b7-75db-4c3a-fd9b-eacf7ccb5bea"
      },
      "source": [
        "var_data = compute_scores(X)\r\n",
        "plt.figure(figsize = (8,6))\r\n",
        "#plot of variance contained in principal components vs the number of principal components\r\n",
        "plt.plot(np.arange(1,7),var_data,'--o',label = 'Variance contained in Principal Components')\r\n",
        "plt.legend()\r\n",
        "plt.title(\"variance contained in principal components vs the number of principal components\")\r\n",
        "plt.xlabel('Principal Components')\r\n",
        "plt.ylabel('Variance Contained in Principal Components')\r\n",
        "plt.savefig('variance contained in PCA',dpi = 150)"
      ],
      "execution_count": 12,
      "outputs": [
        {
          "output_type": "display_data",
          "data": {
            "image/png": "[encoded data removed]",
            "text/plain": [
              "<Figure size 576x432 with 1 Axes>"
            ]
          },
          "metadata": {
            "tags": [],
            "needs_background": "light"
          }
        }
      ]
    },
    {
      "cell_type": "markdown",
      "metadata": {
        "id": "8w9rmQQKaFuu"
      },
      "source": [
        "###***Difference between the actual data (original 6-dimensional data) vs data obtained by the back transformation from a reduced principal components space of five dimensions to 6 dimensions.***"
      ]
    },
    {
      "cell_type": "code",
      "metadata": {
        "colab": {
          "base_uri": "https://localhost:8080/",
          "height": 142
        },
        "id": "O_9uBKTfsuth",
        "outputId": "1701fe59-f358-44c7-b2f4-1a0dde0997c1"
      },
      "source": [
        "pca = PCA(n_components=5) # PCA analysis for 5 components\r\n",
        "X_new = pca.fit_transform(X) # fitting and transforming data X\r\n",
        "X_inver_tran = pca.inverse_transform(X_new) # performing inverse transform on the new data\r\n",
        "difference = X_inver_tran-X  # calculating Difference\r\n",
        "df_diff = pd.DataFrame(difference,columns=df.columns.values)\r\n",
        "df_diff.sample(n=3, random_state=0,axis = 0) # random dataset for required output\r\n"
      ],
      "execution_count": 13,
      "outputs": [
        {
          "output_type": "execute_result",
          "data": {
            "text/html": [
              "<div>\n",
              "<style scoped>\n",
              "    .dataframe tbody tr th:only-of-type {\n",
              "        vertical-align: middle;\n",
              "    }\n",
              "\n",
              "    .dataframe tbody tr th {\n",
              "        vertical-align: top;\n",
              "    }\n",
              "\n",
              "    .dataframe thead th {\n",
              "        text-align: right;\n",
              "    }\n",
              "</style>\n",
              "<table border=\"1\" class=\"dataframe\">\n",
              "  <thead>\n",
              "    <tr style=\"text-align: right;\">\n",
              "      <th></th>\n",
              "      <th>X1</th>\n",
              "      <th>X2</th>\n",
              "      <th>X3</th>\n",
              "      <th>X4</th>\n",
              "      <th>X5</th>\n",
              "      <th>X6</th>\n",
              "    </tr>\n",
              "  </thead>\n",
              "  <tbody>\n",
              "    <tr>\n",
              "      <th>18</th>\n",
              "      <td>0.059180</td>\n",
              "      <td>0.080052</td>\n",
              "      <td>0.004492</td>\n",
              "      <td>-0.016104</td>\n",
              "      <td>-0.034946</td>\n",
              "      <td>-0.070164</td>\n",
              "    </tr>\n",
              "    <tr>\n",
              "      <th>170</th>\n",
              "      <td>-0.194071</td>\n",
              "      <td>-0.262515</td>\n",
              "      <td>-0.014730</td>\n",
              "      <td>0.052810</td>\n",
              "      <td>0.114599</td>\n",
              "      <td>0.230091</td>\n",
              "    </tr>\n",
              "    <tr>\n",
              "      <th>107</th>\n",
              "      <td>-0.078516</td>\n",
              "      <td>-0.106207</td>\n",
              "      <td>-0.005960</td>\n",
              "      <td>0.021366</td>\n",
              "      <td>0.046364</td>\n",
              "      <td>0.093089</td>\n",
              "    </tr>\n",
              "  </tbody>\n",
              "</table>\n",
              "</div>"
            ],
            "text/plain": [
              "           X1        X2        X3        X4        X5        X6\n",
              "18   0.059180  0.080052  0.004492 -0.016104 -0.034946 -0.070164\n",
              "170 -0.194071 -0.262515 -0.014730  0.052810  0.114599  0.230091\n",
              "107 -0.078516 -0.106207 -0.005960  0.021366  0.046364  0.093089"
            ]
          },
          "metadata": {
            "tags": []
          },
          "execution_count": 13
        }
      ]
    },
    {
      "cell_type": "code",
      "metadata": {
        "id": "3GnpmrWpT1FR"
      },
      "source": [
        ""
      ],
      "execution_count": 13,
      "outputs": []
    }
  ]
}